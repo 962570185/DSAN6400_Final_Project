{
 "cells": [
  {
   "cell_type": "code",
   "execution_count": 1,
   "metadata": {},
   "outputs": [
    {
     "name": "stdout",
     "output_type": "stream",
     "text": [
      "    userid  age  dob_day  dob_year  dob_month  gender  tenure  friend_count  \\\n",
      "0  2094382   14       19      1999         11    male   266.0             0   \n",
      "1  1192601   14        2      1999         11  female     6.0             0   \n",
      "2  2083884   14       16      1999         11    male    13.0             0   \n",
      "3  1203168   14       25      1999         12  female    93.0             0   \n",
      "4  1733186   14        4      1999         12    male    82.0             0   \n",
      "\n",
      "   friendships_initiated  likes  likes_received  mobile_likes  \\\n",
      "0                      0      0               0             0   \n",
      "1                      0      0               0             0   \n",
      "2                      0      0               0             0   \n",
      "3                      0      0               0             0   \n",
      "4                      0      0               0             0   \n",
      "\n",
      "   mobile_likes_received  www_likes  www_likes_received  \n",
      "0                      0          0                   0  \n",
      "1                      0          0                   0  \n",
      "2                      0          0                   0  \n",
      "3                      0          0                   0  \n",
      "4                      0          0                   0  \n"
     ]
    }
   ],
   "source": [
    "import pandas as pd\n",
    "\n",
    "df = pd.read_csv('../data/pseudo_facebook.tsv', sep='\\t')\n",
    "\n",
    "print(df.head())"
   ]
  }
 ],
 "metadata": {
  "kernelspec": {
   "display_name": "base",
   "language": "python",
   "name": "python3"
  },
  "language_info": {
   "codemirror_mode": {
    "name": "ipython",
    "version": 3
   },
   "file_extension": ".py",
   "mimetype": "text/x-python",
   "name": "python",
   "nbconvert_exporter": "python",
   "pygments_lexer": "ipython3",
   "version": "3.11.9"
  }
 },
 "nbformat": 4,
 "nbformat_minor": 2
}
